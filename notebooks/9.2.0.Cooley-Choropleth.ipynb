{
 "cells": [
  {
   "cell_type": "markdown",
   "metadata": {},
   "source": [
    "# Let’s make a map! Using Geopandas, Pandas and Matplotlib to make a Choropleth map\n",
    "\n",
    ">Benjamin Cooley  \n",
    ">Jun 25, 2018·  \n",
    ">6 min read\n",
    "\n",
    "https://towardsdatascience.com/lets-make-a-map-using-geopandas-pandas-and-matplotlib-to-make-a-chloropleth-map-dddc31c1983d"
   ]
  },
  {
   "cell_type": "code",
   "execution_count": 1,
   "metadata": {},
   "outputs": [
    {
     "data": {
      "text/plain": [
       "'/home/jdreed/MSDS696/notebooks'"
      ]
     },
     "execution_count": 1,
     "metadata": {},
     "output_type": "execute_result"
    }
   ],
   "source": [
    "import os\n",
    "os.getcwd()"
   ]
  },
  {
   "cell_type": "code",
   "execution_count": 2,
   "metadata": {},
   "outputs": [
    {
     "data": {
      "text/html": [
       "<div>\n",
       "<style scoped>\n",
       "    .dataframe tbody tr th:only-of-type {\n",
       "        vertical-align: middle;\n",
       "    }\n",
       "\n",
       "    .dataframe tbody tr th {\n",
       "        vertical-align: top;\n",
       "    }\n",
       "\n",
       "    .dataframe thead th {\n",
       "        text-align: right;\n",
       "    }\n",
       "</style>\n",
       "<table border=\"1\" class=\"dataframe\">\n",
       "  <thead>\n",
       "    <tr style=\"text-align: right;\">\n",
       "      <th></th>\n",
       "      <th>NAME</th>\n",
       "      <th>GSS_CODE</th>\n",
       "      <th>HECTARES</th>\n",
       "      <th>NONLD_AREA</th>\n",
       "      <th>ONS_INNER</th>\n",
       "      <th>SUB_2009</th>\n",
       "      <th>SUB_2006</th>\n",
       "      <th>geometry</th>\n",
       "    </tr>\n",
       "  </thead>\n",
       "  <tbody>\n",
       "    <tr>\n",
       "      <th>0</th>\n",
       "      <td>Kingston upon Thames</td>\n",
       "      <td>E09000021</td>\n",
       "      <td>3726.117</td>\n",
       "      <td>0.000</td>\n",
       "      <td>F</td>\n",
       "      <td>None</td>\n",
       "      <td>None</td>\n",
       "      <td>POLYGON ((516401.600 160201.800, 516407.300 16...</td>\n",
       "    </tr>\n",
       "    <tr>\n",
       "      <th>1</th>\n",
       "      <td>Croydon</td>\n",
       "      <td>E09000008</td>\n",
       "      <td>8649.441</td>\n",
       "      <td>0.000</td>\n",
       "      <td>F</td>\n",
       "      <td>None</td>\n",
       "      <td>None</td>\n",
       "      <td>POLYGON ((535009.200 159504.700, 535005.500 15...</td>\n",
       "    </tr>\n",
       "    <tr>\n",
       "      <th>2</th>\n",
       "      <td>Bromley</td>\n",
       "      <td>E09000006</td>\n",
       "      <td>15013.487</td>\n",
       "      <td>0.000</td>\n",
       "      <td>F</td>\n",
       "      <td>None</td>\n",
       "      <td>None</td>\n",
       "      <td>POLYGON ((540373.600 157530.400, 540361.200 15...</td>\n",
       "    </tr>\n",
       "    <tr>\n",
       "      <th>3</th>\n",
       "      <td>Hounslow</td>\n",
       "      <td>E09000018</td>\n",
       "      <td>5658.541</td>\n",
       "      <td>60.755</td>\n",
       "      <td>F</td>\n",
       "      <td>None</td>\n",
       "      <td>None</td>\n",
       "      <td>POLYGON ((521975.800 178100.000, 521967.700 17...</td>\n",
       "    </tr>\n",
       "    <tr>\n",
       "      <th>4</th>\n",
       "      <td>Ealing</td>\n",
       "      <td>E09000009</td>\n",
       "      <td>5554.428</td>\n",
       "      <td>0.000</td>\n",
       "      <td>F</td>\n",
       "      <td>None</td>\n",
       "      <td>None</td>\n",
       "      <td>POLYGON ((510253.500 182881.600, 510249.900 18...</td>\n",
       "    </tr>\n",
       "  </tbody>\n",
       "</table>\n",
       "</div>"
      ],
      "text/plain": [
       "                   NAME   GSS_CODE   HECTARES  NONLD_AREA ONS_INNER SUB_2009  \\\n",
       "0  Kingston upon Thames  E09000021   3726.117       0.000         F     None   \n",
       "1               Croydon  E09000008   8649.441       0.000         F     None   \n",
       "2               Bromley  E09000006  15013.487       0.000         F     None   \n",
       "3              Hounslow  E09000018   5658.541      60.755         F     None   \n",
       "4                Ealing  E09000009   5554.428       0.000         F     None   \n",
       "\n",
       "  SUB_2006                                           geometry  \n",
       "0     None  POLYGON ((516401.600 160201.800, 516407.300 16...  \n",
       "1     None  POLYGON ((535009.200 159504.700, 535005.500 15...  \n",
       "2     None  POLYGON ((540373.600 157530.400, 540361.200 15...  \n",
       "3     None  POLYGON ((521975.800 178100.000, 521967.700 17...  \n",
       "4     None  POLYGON ((510253.500 182881.600, 510249.900 18...  "
      ]
     },
     "execution_count": 2,
     "metadata": {},
     "output_type": "execute_result"
    }
   ],
   "source": [
    "import plotly.graph_objects as go\n",
    "import geopandas as gpd\n",
    "import pandas as pd\n",
    "import matplotlib.pyplot as plt\n",
    "\n",
    "data_path = \"../../LONDON/\"\n",
    "# set the filepath and load in a shapefile\n",
    "#fp = “datasets/geo-data/gis-boundaries-london/ESRI/London_Borough_Excluding_MHW.shp”\n",
    "fp =  data_path + \"statistical-gis-boundaries-london/ESRI/London_Borough_Excluding_MHW.shp\"\n",
    "map_df = gpd.read_file(fp)\n",
    "# check data type so we can see that this is not a normal dataframe, but a GEOdataframe\n",
    "map_df.head()"
   ]
  },
  {
   "cell_type": "code",
   "execution_count": 3,
   "metadata": {},
   "outputs": [
    {
     "data": {
      "text/plain": [
       "<AxesSubplot:>"
      ]
     },
     "execution_count": 3,
     "metadata": {},
     "output_type": "execute_result"
    },
    {
     "data": {
      "image/png": "[encoded data removed]",
      "text/plain": [
       "<Figure size 432x288 with 1 Axes>"
      ]
     },
     "metadata": {
      "needs_background": "light"
     },
     "output_type": "display_data"
    }
   ],
   "source": [
    "map_df.plot()"
   ]
  },
  {
   "cell_type": "code",
   "execution_count": 4,
   "metadata": {},
   "outputs": [],
   "source": [
    "fn = '../../LONDON/london-borough-profiles.csv'\n",
    "df = pd.read_csv(fn)\n",
    "df.head()\n",
    "#print(df.columns)\n",
    "df = df[['Area_name','Happiness_score_2011-14_(out_of_10)', 'Anxiety_score_2011-14_(out_of_10)', \n",
    "  'Population_density_(per_hectare)_2017', 'Mortality_rate_from_causes_considered_preventable_2012/14']]"
   ]
  },
  {
   "cell_type": "code",
   "execution_count": 5,
   "metadata": {},
   "outputs": [
    {
     "data": {
      "text/html": [
       "<div>\n",
       "<style scoped>\n",
       "    .dataframe tbody tr th:only-of-type {\n",
       "        vertical-align: middle;\n",
       "    }\n",
       "\n",
       "    .dataframe tbody tr th {\n",
       "        vertical-align: top;\n",
       "    }\n",
       "\n",
       "    .dataframe thead th {\n",
       "        text-align: right;\n",
       "    }\n",
       "</style>\n",
       "<table border=\"1\" class=\"dataframe\">\n",
       "  <thead>\n",
       "    <tr style=\"text-align: right;\">\n",
       "      <th></th>\n",
       "      <th>Area_name</th>\n",
       "      <th>Happiness_score_2011-14_(out_of_10)</th>\n",
       "      <th>Anxiety_score_2011-14_(out_of_10)</th>\n",
       "      <th>Population_density_(per_hectare)_2017</th>\n",
       "      <th>Mortality_rate_from_causes_considered_preventable_2012/14</th>\n",
       "    </tr>\n",
       "  </thead>\n",
       "  <tbody>\n",
       "    <tr>\n",
       "      <th>0</th>\n",
       "      <td>City of London</td>\n",
       "      <td>6.0</td>\n",
       "      <td>5.6</td>\n",
       "      <td>30.3</td>\n",
       "      <td>129</td>\n",
       "    </tr>\n",
       "    <tr>\n",
       "      <th>1</th>\n",
       "      <td>Barking and Dagenham</td>\n",
       "      <td>7.1</td>\n",
       "      <td>3.1</td>\n",
       "      <td>57.9</td>\n",
       "      <td>228</td>\n",
       "    </tr>\n",
       "    <tr>\n",
       "      <th>2</th>\n",
       "      <td>Barnet</td>\n",
       "      <td>7.4</td>\n",
       "      <td>2.8</td>\n",
       "      <td>44.9</td>\n",
       "      <td>134</td>\n",
       "    </tr>\n",
       "    <tr>\n",
       "      <th>3</th>\n",
       "      <td>Bexley</td>\n",
       "      <td>7.2</td>\n",
       "      <td>3.3</td>\n",
       "      <td>40.3</td>\n",
       "      <td>164</td>\n",
       "    </tr>\n",
       "    <tr>\n",
       "      <th>4</th>\n",
       "      <td>Brent</td>\n",
       "      <td>7.2</td>\n",
       "      <td>2.9</td>\n",
       "      <td>76.8</td>\n",
       "      <td>169</td>\n",
       "    </tr>\n",
       "  </tbody>\n",
       "</table>\n",
       "</div>"
      ],
      "text/plain": [
       "              Area_name  Happiness_score_2011-14_(out_of_10)  \\\n",
       "0        City of London                                  6.0   \n",
       "1  Barking and Dagenham                                  7.1   \n",
       "2                Barnet                                  7.4   \n",
       "3                Bexley                                  7.2   \n",
       "4                 Brent                                  7.2   \n",
       "\n",
       "   Anxiety_score_2011-14_(out_of_10) Population_density_(per_hectare)_2017  \\\n",
       "0                                5.6                                  30.3   \n",
       "1                                3.1                                  57.9   \n",
       "2                                2.8                                  44.9   \n",
       "3                                3.3                                  40.3   \n",
       "4                                2.9                                  76.8   \n",
       "\n",
       "  Mortality_rate_from_causes_considered_preventable_2012/14  \n",
       "0                                                129         \n",
       "1                                                228         \n",
       "2                                                134         \n",
       "3                                                164         \n",
       "4                                                169         "
      ]
     },
     "execution_count": 5,
     "metadata": {},
     "output_type": "execute_result"
    }
   ],
   "source": [
    "df.head()"
   ]
  },
  {
   "cell_type": "code",
   "execution_count": 6,
   "metadata": {},
   "outputs": [
    {
     "data": {
      "text/html": [
       "<div>\n",
       "<style scoped>\n",
       "    .dataframe tbody tr th:only-of-type {\n",
       "        vertical-align: middle;\n",
       "    }\n",
       "\n",
       "    .dataframe tbody tr th {\n",
       "        vertical-align: top;\n",
       "    }\n",
       "\n",
       "    .dataframe thead th {\n",
       "        text-align: right;\n",
       "    }\n",
       "</style>\n",
       "<table border=\"1\" class=\"dataframe\">\n",
       "  <thead>\n",
       "    <tr style=\"text-align: right;\">\n",
       "      <th></th>\n",
       "      <th>Area_name</th>\n",
       "      <th>happiness</th>\n",
       "      <th>anxiety</th>\n",
       "      <th>pop_density_per_hectare</th>\n",
       "      <th>mortality</th>\n",
       "    </tr>\n",
       "  </thead>\n",
       "  <tbody>\n",
       "    <tr>\n",
       "      <th>0</th>\n",
       "      <td>City of London</td>\n",
       "      <td>6.0</td>\n",
       "      <td>5.6</td>\n",
       "      <td>30.3</td>\n",
       "      <td>129</td>\n",
       "    </tr>\n",
       "    <tr>\n",
       "      <th>1</th>\n",
       "      <td>Barking and Dagenham</td>\n",
       "      <td>7.1</td>\n",
       "      <td>3.1</td>\n",
       "      <td>57.9</td>\n",
       "      <td>228</td>\n",
       "    </tr>\n",
       "    <tr>\n",
       "      <th>2</th>\n",
       "      <td>Barnet</td>\n",
       "      <td>7.4</td>\n",
       "      <td>2.8</td>\n",
       "      <td>44.9</td>\n",
       "      <td>134</td>\n",
       "    </tr>\n",
       "    <tr>\n",
       "      <th>3</th>\n",
       "      <td>Bexley</td>\n",
       "      <td>7.2</td>\n",
       "      <td>3.3</td>\n",
       "      <td>40.3</td>\n",
       "      <td>164</td>\n",
       "    </tr>\n",
       "    <tr>\n",
       "      <th>4</th>\n",
       "      <td>Brent</td>\n",
       "      <td>7.2</td>\n",
       "      <td>2.9</td>\n",
       "      <td>76.8</td>\n",
       "      <td>169</td>\n",
       "    </tr>\n",
       "  </tbody>\n",
       "</table>\n",
       "</div>"
      ],
      "text/plain": [
       "              Area_name  happiness  anxiety pop_density_per_hectare mortality\n",
       "0        City of London        6.0      5.6                    30.3       129\n",
       "1  Barking and Dagenham        7.1      3.1                    57.9       228\n",
       "2                Barnet        7.4      2.8                    44.9       134\n",
       "3                Bexley        7.2      3.3                    40.3       164\n",
       "4                 Brent        7.2      2.9                    76.8       169"
      ]
     },
     "execution_count": 6,
     "metadata": {},
     "output_type": "execute_result"
    }
   ],
   "source": [
    "data_for_map = df.rename(index=str, columns={'Happiness_score_2011-14_(out_of_10)': 'happiness',\n",
    "'Anxiety_score_2011-14_(out_of_10)': 'anxiety',\n",
    "'Population_density_(per_hectare)_2017': 'pop_density_per_hectare',\n",
    "'Mortality_rate_from_causes_considered_preventable_2012/14': 'mortality'})\n",
    "# check dat dataframe\n",
    "data_for_map.head()"
   ]
  },
  {
   "cell_type": "markdown",
   "metadata": {},
   "source": [
    "## Merge the two data frames into one"
   ]
  },
  {
   "cell_type": "code",
   "execution_count": 7,
   "metadata": {},
   "outputs": [
    {
     "data": {
      "text/html": [
       "<div>\n",
       "<style scoped>\n",
       "    .dataframe tbody tr th:only-of-type {\n",
       "        vertical-align: middle;\n",
       "    }\n",
       "\n",
       "    .dataframe tbody tr th {\n",
       "        vertical-align: top;\n",
       "    }\n",
       "\n",
       "    .dataframe thead th {\n",
       "        text-align: right;\n",
       "    }\n",
       "</style>\n",
       "<table border=\"1\" class=\"dataframe\">\n",
       "  <thead>\n",
       "    <tr style=\"text-align: right;\">\n",
       "      <th></th>\n",
       "      <th>GSS_CODE</th>\n",
       "      <th>HECTARES</th>\n",
       "      <th>NONLD_AREA</th>\n",
       "      <th>ONS_INNER</th>\n",
       "      <th>SUB_2009</th>\n",
       "      <th>SUB_2006</th>\n",
       "      <th>geometry</th>\n",
       "      <th>happiness</th>\n",
       "      <th>anxiety</th>\n",
       "      <th>pop_density_per_hectare</th>\n",
       "      <th>mortality</th>\n",
       "    </tr>\n",
       "    <tr>\n",
       "      <th>NAME</th>\n",
       "      <th></th>\n",
       "      <th></th>\n",
       "      <th></th>\n",
       "      <th></th>\n",
       "      <th></th>\n",
       "      <th></th>\n",
       "      <th></th>\n",
       "      <th></th>\n",
       "      <th></th>\n",
       "      <th></th>\n",
       "      <th></th>\n",
       "    </tr>\n",
       "  </thead>\n",
       "  <tbody>\n",
       "    <tr>\n",
       "      <th>Kingston upon Thames</th>\n",
       "      <td>E09000021</td>\n",
       "      <td>3726.117</td>\n",
       "      <td>0.000</td>\n",
       "      <td>F</td>\n",
       "      <td>None</td>\n",
       "      <td>None</td>\n",
       "      <td>POLYGON ((516401.600 160201.800, 516407.300 16...</td>\n",
       "      <td>7.4</td>\n",
       "      <td>3.3</td>\n",
       "      <td>47.1</td>\n",
       "      <td>141</td>\n",
       "    </tr>\n",
       "    <tr>\n",
       "      <th>Croydon</th>\n",
       "      <td>E09000008</td>\n",
       "      <td>8649.441</td>\n",
       "      <td>0.000</td>\n",
       "      <td>F</td>\n",
       "      <td>None</td>\n",
       "      <td>None</td>\n",
       "      <td>POLYGON ((535009.200 159504.700, 535005.500 15...</td>\n",
       "      <td>7.2</td>\n",
       "      <td>3.3</td>\n",
       "      <td>44.7</td>\n",
       "      <td>178</td>\n",
       "    </tr>\n",
       "    <tr>\n",
       "      <th>Bromley</th>\n",
       "      <td>E09000006</td>\n",
       "      <td>15013.487</td>\n",
       "      <td>0.000</td>\n",
       "      <td>F</td>\n",
       "      <td>None</td>\n",
       "      <td>None</td>\n",
       "      <td>POLYGON ((540373.600 157530.400, 540361.200 15...</td>\n",
       "      <td>7.4</td>\n",
       "      <td>3.3</td>\n",
       "      <td>21.8</td>\n",
       "      <td>148</td>\n",
       "    </tr>\n",
       "    <tr>\n",
       "      <th>Hounslow</th>\n",
       "      <td>E09000018</td>\n",
       "      <td>5658.541</td>\n",
       "      <td>60.755</td>\n",
       "      <td>F</td>\n",
       "      <td>None</td>\n",
       "      <td>None</td>\n",
       "      <td>POLYGON ((521975.800 178100.000, 521967.700 17...</td>\n",
       "      <td>7.4</td>\n",
       "      <td>3.4</td>\n",
       "      <td>49</td>\n",
       "      <td>166</td>\n",
       "    </tr>\n",
       "    <tr>\n",
       "      <th>Ealing</th>\n",
       "      <td>E09000009</td>\n",
       "      <td>5554.428</td>\n",
       "      <td>0.000</td>\n",
       "      <td>F</td>\n",
       "      <td>None</td>\n",
       "      <td>None</td>\n",
       "      <td>POLYGON ((510253.500 182881.600, 510249.900 18...</td>\n",
       "      <td>7.3</td>\n",
       "      <td>3.6</td>\n",
       "      <td>63.3</td>\n",
       "      <td>164</td>\n",
       "    </tr>\n",
       "  </tbody>\n",
       "</table>\n",
       "</div>"
      ],
      "text/plain": [
       "                       GSS_CODE   HECTARES  NONLD_AREA ONS_INNER SUB_2009  \\\n",
       "NAME                                                                        \n",
       "Kingston upon Thames  E09000021   3726.117       0.000         F     None   \n",
       "Croydon               E09000008   8649.441       0.000         F     None   \n",
       "Bromley               E09000006  15013.487       0.000         F     None   \n",
       "Hounslow              E09000018   5658.541      60.755         F     None   \n",
       "Ealing                E09000009   5554.428       0.000         F     None   \n",
       "\n",
       "                     SUB_2006  \\\n",
       "NAME                            \n",
       "Kingston upon Thames     None   \n",
       "Croydon                  None   \n",
       "Bromley                  None   \n",
       "Hounslow                 None   \n",
       "Ealing                   None   \n",
       "\n",
       "                                                               geometry  \\\n",
       "NAME                                                                      \n",
       "Kingston upon Thames  POLYGON ((516401.600 160201.800, 516407.300 16...   \n",
       "Croydon               POLYGON ((535009.200 159504.700, 535005.500 15...   \n",
       "Bromley               POLYGON ((540373.600 157530.400, 540361.200 15...   \n",
       "Hounslow              POLYGON ((521975.800 178100.000, 521967.700 17...   \n",
       "Ealing                POLYGON ((510253.500 182881.600, 510249.900 18...   \n",
       "\n",
       "                      happiness  anxiety pop_density_per_hectare mortality  \n",
       "NAME                                                                        \n",
       "Kingston upon Thames        7.4      3.3                    47.1       141  \n",
       "Croydon                     7.2      3.3                    44.7       178  \n",
       "Bromley                     7.4      3.3                    21.8       148  \n",
       "Hounslow                    7.4      3.4                      49       166  \n",
       "Ealing                      7.3      3.6                    63.3       164  "
      ]
     },
     "execution_count": 7,
     "metadata": {},
     "output_type": "execute_result"
    }
   ],
   "source": [
    "# join the geodataframe with the cleaned up csv dataframe\n",
    "merged = map_df.set_index('NAME').join(data_for_map.set_index('Area_name'))\n",
    "merged.head()"
   ]
  },
  {
   "cell_type": "code",
   "execution_count": 8,
   "metadata": {},
   "outputs": [
    {
     "data": {
      "text/plain": [
       "Index(['GSS_CODE', 'HECTARES', 'NONLD_AREA', 'ONS_INNER', 'SUB_2009',\n",
       "       'SUB_2006', 'geometry', 'happiness', 'anxiety',\n",
       "       'pop_density_per_hectare', 'mortality'],\n",
       "      dtype='object')"
      ]
     },
     "execution_count": 8,
     "metadata": {},
     "output_type": "execute_result"
    }
   ],
   "source": [
    "merged.columns"
   ]
  },
  {
   "cell_type": "markdown",
   "metadata": {},
   "source": [
    "## Map Time"
   ]
  },
  {
   "cell_type": "code",
   "execution_count": 15,
   "metadata": {},
   "outputs": [
    {
     "data": {
      "image/png": "[encoded data removed]",
      "text/plain": [
       "<Figure size 720x432 with 2 Axes>"
      ]
     },
     "metadata": {
      "needs_background": "light"
     },
     "output_type": "display_data"
    }
   ],
   "source": [
    "# set a variable that will call whatever column we want to visualise on the map\n",
    "variable = 'pop_density_per_hectare'\n",
    "\n",
    "# set the range for the choropleth\n",
    "vmin, vmax = 120, 220\n",
    "# create figure and axes for Matplotlib\n",
    "fig, ax = plt.subplots(1, figsize=(10, 6))\n",
    "# create map\n",
    "merged.plot(column=variable, cmap='Blues', linewidth=0.8, ax=ax, edgecolor='0.8')\n",
    "# remove the axis\n",
    "ax.axis('off')\n",
    "\n",
    "# add a title\n",
    "ax.set_title('Preventable death rate in London', fontdict={'fontsize': '25', 'fontweight' : '3'})\n",
    "# create an annotation for the data source\n",
    "ax.annotate('Source: London Datastore, 2014',xy=(0.1, .08),  xycoords='figure fraction', horizontalalignment='left', verticalalignment='top', fontsize=12, color='#555555')\n",
    "\n",
    "# Create colorbar as a legend\n",
    "sm = plt.cm.ScalarMappable(cmap='Blues', norm=plt.Normalize(vmin=vmin, vmax=vmax))\n",
    "# empty array for the data range\n",
    "sm._A = []\n",
    "# add the colorbar to the figure\n",
    "cbar = fig.colorbar(sm)\n",
    "\n",
    "\n",
    "fig.savefig('map_export.png', dpi=300)"
   ]
  },
  {
   "cell_type": "code",
   "execution_count": null,
   "metadata": {},
   "outputs": [],
   "source": []
  }
 ],
 "metadata": {
  "kernelspec": {
   "display_name": "Python 3",
   "language": "python",
   "name": "python3"
  },
  "language_info": {
   "codemirror_mode": {
    "name": "ipython",
    "version": 3
   },
   "file_extension": ".py",
   "mimetype": "text/x-python",
   "name": "python",
   "nbconvert_exporter": "python",
   "pygments_lexer": "ipython3",
   "version": "3.7.8"
  }
 },
 "nbformat": 4,
 "nbformat_minor": 4
}
