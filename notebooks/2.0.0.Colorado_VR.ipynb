{
 "cells": [
  {
   "cell_type": "markdown",
   "metadata": {},
   "source": [
    "# MSDS696 Practicum 2 \n",
    "## Fall 8W2 2020\n",
    "\n",
    "### Exploration of Colorado County-Level Voting Patterns 2010 - 2020\n",
    "\n",
    "#### James D. Reed (jreed011@regis.edu)\n",
    "\n",
    "<img src=\"../img/Mountains2.jpg\" width=\"700\" height=\"200\" />\n",
    "\n",
    "## Load Colorado Voter Registration Data\n",
    "\n",
    "The purpose of this notebook is to download the voter registration information from the Secretary of State for Colorado.  Note, there are some manual changes required of some of the xls/xlsx files.  Don't run this unless you have to.\n"
   ]
  },
  {
   "cell_type": "code",
   "execution_count": 16,
   "metadata": {},
   "outputs": [],
   "source": [
    "import requests\n",
    "import pandas as pd\n",
    "import openpyxl\n",
    "from pathlib import Path\n",
    "import censusFunctions as cf\n",
    "\n",
    "from decouple import config\n",
    "import os\n",
    "%matplotlib inline"
   ]
  },
  {
   "cell_type": "code",
   "execution_count": 17,
   "metadata": {},
   "outputs": [],
   "source": [
    "global CENSUS_KEY\n",
    "global GOOGLE_KEY\n",
    "\n",
    "def get_census_keys():\n",
    "    # Get CENSUS_KEY\n",
    "    try:\n",
    "        BASE_DIR = os.path.dirname(os.path.abspath(__file__))\n",
    "    except NameError:  # We are the main py2exe script, not a module\n",
    "        import sys\n",
    "        BASE_DIR = os.path.dirname(os.path.abspath(sys.argv[0]))\n",
    "\n",
    "    CENSUS = config('CENSUS_KEY')\n",
    "    GOOGLE = config('GOOGLE_KEY')\n",
    "    #print(f'CENSUS: {CENSUS}, GOOGLE: {GOOGLE}')\n",
    "    return(CENSUS, GOOGLE)"
   ]
  },
  {
   "cell_type": "code",
   "execution_count": 18,
   "metadata": {},
   "outputs": [],
   "source": [
    "CENSUS_KEY, GOOGLE_KEY = get_census_keys()\n",
    "#print(f'CENSUS: {CENSUS_KEY}, GOOGLE: {GOOGLE_KEY}')"
   ]
  },
  {
   "cell_type": "code",
   "execution_count": 19,
   "metadata": {},
   "outputs": [],
   "source": [
    "counties = ['Adams',  'Alamosa',  'Arapahoe',  'Archuleta',  'Baca',  'Bent', 'Boulder', \n",
    "            'Chaffee', 'Cheyenne', 'Clear Creek', 'Conejos', 'Costilla', \n",
    "            'Crowley', 'Custer', 'Delta', 'Denver', 'Dolores', 'Douglas', 'Eagle', 'Elbert', \n",
    "            'El Paso', 'Fremont', 'Garfield', 'Gilpin', 'Grand', 'Gunnison', 'Hinsdale', \n",
    "            'Huerfano', 'Jackson', 'Jefferson', 'Kiowa', 'Kit Carson', 'La Plata', 'Lake', \n",
    "            'Larimer', 'Las Animas', 'Lincoln', 'Logan', 'Mesa', 'Mineral', 'Moffat', \n",
    "            'Montezuma', 'Montrose', 'Morgan', 'Otero', 'Ouray', 'Park', 'Phillips', \n",
    "            'Pitkin', 'Prowers', 'Pueblo', 'Rio Blanco', 'Rio Grande', 'Routt', 'Saguache', \n",
    "            'San Juan', 'San Miguel', 'Sedgwick', 'Summit', 'Teller', 'Washington', \n",
    "            'Weld', 'Yuma', 'Total'] \n",
    "\n",
    "months = {'January': 1,'February': 2,'March': 3,'April': 4,'May': 5,'June': 6,\n",
    "          'July': 7,'August': 8, 'September': 9,'October': 10,'November': 11,'December': 12}\n"
   ]
  },
  {
   "cell_type": "code",
   "execution_count": 20,
   "metadata": {},
   "outputs": [],
   "source": [
    "import requests\n",
    "import pandas as pd\n",
    "import censusdata\n",
    "from pathlib import Path\n",
    "\n",
    "def get_county(str, month):\n",
    "    c = str[0:str.index(' County')]\n",
    "    return(c)\n",
    "\n",
    "def get_filename(name, census):\n",
    "    fn = census + '-' + name + '.csv'\n",
    "    return fn\n",
    "\n",
    "def get_vr_url(year, month):\n",
    "    '''\n",
    "    Construct a string containing url for Year and Month Voter Registration Statistics\n",
    "    '''\n",
    "    HOST = \"https://www.sos.state.co.us/pubs/elections/VoterRegNumbers\"\n",
    "    \n",
    "    # Build file URL from year and month\n",
    "    file_url = \"/\".join([HOST, str(year), month, \"statistics.xlsx\"])\n",
    "    \n",
    "    return(file_url)\n",
    "\n",
    "import os\n",
    "import shutil\n",
    "import requests\n",
    "\n",
    "def download_and_rename(url, folder_name,  local_filename):\n",
    "    #local_filename = url.split('/')[-1]\n",
    "    path = os.path.join(\"{}/{}\".format(folder_name, local_filename))\n",
    "    with requests.get(url, stream=True) as r:\n",
    "        with open(path, 'wb') as f:\n",
    "            shutil.copyfileobj(r.raw, f)\n",
    "\n",
    "    return \n"
   ]
  },
  {
   "cell_type": "markdown",
   "metadata": {},
   "source": [
    "## Voter Registration for 2016 to 2020"
   ]
  },
  {
   "cell_type": "code",
   "execution_count": 6,
   "metadata": {},
   "outputs": [
    {
     "name": "stdout",
     "output_type": "stream",
     "text": [
      "url: https://www.sos.state.co.us/pubs/elections/VoterRegNumbers/2016/January/statistics.xlsx, \tfn: co-2016-vr-01.xlsx\n",
      "url: https://www.sos.state.co.us/pubs/elections/VoterRegNumbers/2016/February/statistics.xlsx, \tfn: co-2016-vr-02.xlsx\n",
      "url: https://www.sos.state.co.us/pubs/elections/VoterRegNumbers/2016/March/statistics.xlsx, \tfn: co-2016-vr-03.xlsx\n",
      "url: https://www.sos.state.co.us/pubs/elections/VoterRegNumbers/2016/April/statistics.xlsx, \tfn: co-2016-vr-04.xlsx\n",
      "url: https://www.sos.state.co.us/pubs/elections/VoterRegNumbers/2016/May/statistics.xlsx, \tfn: co-2016-vr-05.xlsx\n",
      "url: https://www.sos.state.co.us/pubs/elections/VoterRegNumbers/2016/June/statistics.xlsx, \tfn: co-2016-vr-06.xlsx\n",
      "url: https://www.sos.state.co.us/pubs/elections/VoterRegNumbers/2016/July/statistics.xlsx, \tfn: co-2016-vr-07.xlsx\n",
      "url: https://www.sos.state.co.us/pubs/elections/VoterRegNumbers/2016/August/statistics.xlsx, \tfn: co-2016-vr-08.xlsx\n",
      "url: https://www.sos.state.co.us/pubs/elections/VoterRegNumbers/2016/September/statistics.xlsx, \tfn: co-2016-vr-09.xlsx\n",
      "url: https://www.sos.state.co.us/pubs/elections/VoterRegNumbers/2016/October/statistics.xlsx, \tfn: co-2016-vr-10.xlsx\n",
      "url: https://www.sos.state.co.us/pubs/elections/VoterRegNumbers/2016/November/statistics.xlsx, \tfn: co-2016-vr-11.xlsx\n",
      "url: https://www.sos.state.co.us/pubs/elections/VoterRegNumbers/2016/December/statistics.xlsx, \tfn: co-2016-vr-12.xlsx\n",
      "url: https://www.sos.state.co.us/pubs/elections/VoterRegNumbers/2017/January/statistics.xlsx, \tfn: co-2017-vr-01.xlsx\n",
      "url: https://www.sos.state.co.us/pubs/elections/VoterRegNumbers/2017/February/statistics.xlsx, \tfn: co-2017-vr-02.xlsx\n",
      "url: https://www.sos.state.co.us/pubs/elections/VoterRegNumbers/2017/March/statistics.xlsx, \tfn: co-2017-vr-03.xlsx\n",
      "url: https://www.sos.state.co.us/pubs/elections/VoterRegNumbers/2017/April/statistics.xlsx, \tfn: co-2017-vr-04.xlsx\n",
      "url: https://www.sos.state.co.us/pubs/elections/VoterRegNumbers/2017/May/statistics.xlsx, \tfn: co-2017-vr-05.xlsx\n",
      "url: https://www.sos.state.co.us/pubs/elections/VoterRegNumbers/2017/June/statistics.xlsx, \tfn: co-2017-vr-06.xlsx\n",
      "url: https://www.sos.state.co.us/pubs/elections/VoterRegNumbers/2017/July/statistics.xlsx, \tfn: co-2017-vr-07.xlsx\n",
      "url: https://www.sos.state.co.us/pubs/elections/VoterRegNumbers/2017/August/statistics.xlsx, \tfn: co-2017-vr-08.xlsx\n",
      "url: https://www.sos.state.co.us/pubs/elections/VoterRegNumbers/2017/September/statistics.xlsx, \tfn: co-2017-vr-09.xlsx\n",
      "url: https://www.sos.state.co.us/pubs/elections/VoterRegNumbers/2017/October/statistics.xlsx, \tfn: co-2017-vr-10.xlsx\n",
      "url: https://www.sos.state.co.us/pubs/elections/VoterRegNumbers/2017/November/statistics.xlsx, \tfn: co-2017-vr-11.xlsx\n",
      "url: https://www.sos.state.co.us/pubs/elections/VoterRegNumbers/2017/December/statistics.xlsx, \tfn: co-2017-vr-12.xlsx\n",
      "url: https://www.sos.state.co.us/pubs/elections/VoterRegNumbers/2018/January/statistics.xlsx, \tfn: co-2018-vr-01.xlsx\n",
      "url: https://www.sos.state.co.us/pubs/elections/VoterRegNumbers/2018/February/statistics.xlsx, \tfn: co-2018-vr-02.xlsx\n",
      "url: https://www.sos.state.co.us/pubs/elections/VoterRegNumbers/2018/March/statistics.xlsx, \tfn: co-2018-vr-03.xlsx\n",
      "url: https://www.sos.state.co.us/pubs/elections/VoterRegNumbers/2018/April/statistics.xlsx, \tfn: co-2018-vr-04.xlsx\n",
      "url: https://www.sos.state.co.us/pubs/elections/VoterRegNumbers/2018/May/statistics.xlsx, \tfn: co-2018-vr-05.xlsx\n",
      "url: https://www.sos.state.co.us/pubs/elections/VoterRegNumbers/2018/June/statistics.xlsx, \tfn: co-2018-vr-06.xlsx\n",
      "url: https://www.sos.state.co.us/pubs/elections/VoterRegNumbers/2018/July/statistics.xlsx, \tfn: co-2018-vr-07.xlsx\n",
      "url: https://www.sos.state.co.us/pubs/elections/VoterRegNumbers/2018/August/statistics.xlsx, \tfn: co-2018-vr-08.xlsx\n",
      "url: https://www.sos.state.co.us/pubs/elections/VoterRegNumbers/2018/September/statistics.xlsx, \tfn: co-2018-vr-09.xlsx\n",
      "url: https://www.sos.state.co.us/pubs/elections/VoterRegNumbers/2018/October/statistics.xlsx, \tfn: co-2018-vr-10.xlsx\n",
      "url: https://www.sos.state.co.us/pubs/elections/VoterRegNumbers/2018/November/statistics.xlsx, \tfn: co-2018-vr-11.xlsx\n",
      "url: https://www.sos.state.co.us/pubs/elections/VoterRegNumbers/2018/December/statistics.xlsx, \tfn: co-2018-vr-12.xlsx\n",
      "url: https://www.sos.state.co.us/pubs/elections/VoterRegNumbers/2019/January/statistics.xlsx, \tfn: co-2019-vr-01.xlsx\n",
      "url: https://www.sos.state.co.us/pubs/elections/VoterRegNumbers/2019/February/statistics.xlsx, \tfn: co-2019-vr-02.xlsx\n",
      "url: https://www.sos.state.co.us/pubs/elections/VoterRegNumbers/2019/March/statistics.xlsx, \tfn: co-2019-vr-03.xlsx\n",
      "url: https://www.sos.state.co.us/pubs/elections/VoterRegNumbers/2019/April/statistics.xlsx, \tfn: co-2019-vr-04.xlsx\n",
      "url: https://www.sos.state.co.us/pubs/elections/VoterRegNumbers/2019/May/statistics.xlsx, \tfn: co-2019-vr-05.xlsx\n",
      "url: https://www.sos.state.co.us/pubs/elections/VoterRegNumbers/2019/June/statistics.xlsx, \tfn: co-2019-vr-06.xlsx\n",
      "url: https://www.sos.state.co.us/pubs/elections/VoterRegNumbers/2019/July/statistics.xlsx, \tfn: co-2019-vr-07.xlsx\n",
      "url: https://www.sos.state.co.us/pubs/elections/VoterRegNumbers/2019/August/statistics.xlsx, \tfn: co-2019-vr-08.xlsx\n",
      "url: https://www.sos.state.co.us/pubs/elections/VoterRegNumbers/2019/September/statistics.xlsx, \tfn: co-2019-vr-09.xlsx\n",
      "url: https://www.sos.state.co.us/pubs/elections/VoterRegNumbers/2019/October/statistics.xlsx, \tfn: co-2019-vr-10.xlsx\n",
      "url: https://www.sos.state.co.us/pubs/elections/VoterRegNumbers/2019/November/statistics.xlsx, \tfn: co-2019-vr-11.xlsx\n",
      "url: https://www.sos.state.co.us/pubs/elections/VoterRegNumbers/2019/December/statistics.xlsx, \tfn: co-2019-vr-12.xlsx\n",
      "url: https://www.sos.state.co.us/pubs/elections/VoterRegNumbers/2020/January/statistics.xlsx, \tfn: co-2020-vr-01.xlsx\n",
      "url: https://www.sos.state.co.us/pubs/elections/VoterRegNumbers/2020/February/statistics.xlsx, \tfn: co-2020-vr-02.xlsx\n",
      "url: https://www.sos.state.co.us/pubs/elections/VoterRegNumbers/2020/March/statistics.xlsx, \tfn: co-2020-vr-03.xlsx\n",
      "url: https://www.sos.state.co.us/pubs/elections/VoterRegNumbers/2020/April/statistics.xlsx, \tfn: co-2020-vr-04.xlsx\n",
      "url: https://www.sos.state.co.us/pubs/elections/VoterRegNumbers/2020/May/statistics.xlsx, \tfn: co-2020-vr-05.xlsx\n",
      "url: https://www.sos.state.co.us/pubs/elections/VoterRegNumbers/2020/June/statistics.xlsx, \tfn: co-2020-vr-06.xlsx\n",
      "url: https://www.sos.state.co.us/pubs/elections/VoterRegNumbers/2020/July/statistics.xlsx, \tfn: co-2020-vr-07.xlsx\n",
      "url: https://www.sos.state.co.us/pubs/elections/VoterRegNumbers/2020/August/statistics.xlsx, \tfn: co-2020-vr-08.xlsx\n",
      "url: https://www.sos.state.co.us/pubs/elections/VoterRegNumbers/2020/September/statistics.xlsx, \tfn: co-2020-vr-09.xlsx\n",
      "url: https://www.sos.state.co.us/pubs/elections/VoterRegNumbers/2020/October/statistics.xlsx, \tfn: co-2020-vr-10.xlsx\n",
      "url: https://www.sos.state.co.us/pubs/elections/VoterRegNumbers/2020/November/statistics.xlsx, \tfn: co-2020-vr-11.xlsx\n",
      "url: https://www.sos.state.co.us/pubs/elections/VoterRegNumbers/2020/December/statistics.xlsx, \tfn: co-2020-vr-12.xlsx\n"
     ]
    }
   ],
   "source": [
    "years = [y for y in range(2016, 2021)]\n",
    "\n",
    "folder = '../data/raw/vr/'\n",
    "for year in years:\n",
    "    for m in months:\n",
    "            fn = 'co-' + str(year) + '-vr-' + str(months[m]).zfill(2) + '.xlsx'\n",
    "            url = get_vr_url(year, m)\n",
    "            print(f'url: {url}, \\tfn: {fn}')\n",
    "            download_and_rename(url, folder, fn)\n"
   ]
  },
  {
   "cell_type": "markdown",
   "metadata": {},
   "source": [
    "### Special Handling for 2009 files"
   ]
  },
  {
   "cell_type": "code",
   "execution_count": 21,
   "metadata": {},
   "outputs": [
    {
     "name": "stdout",
     "output_type": "stream",
     "text": [
      "url: https://www.sos.state.co.us/pubs/elections/VoterRegNumbers/2009/January/january_vr_files_for_web.xls, \tfn: co-2009-vr-01.xls\n",
      "url: https://www.sos.state.co.us/pubs/elections/VoterRegNumbers/2009/February/VR_File_for_web.xls, \tfn: co-2009-vr-02.xls\n",
      "url: https://www.sos.state.co.us/pubs/elections/VoterRegNumbers/2009/March/for_web.xls, \tfn: co-2009-vr-03.xls\n",
      "url: https://www.sos.state.co.us/pubs/elections/VoterRegNumbers/2009/April/Monthly_VR_totals_for_web_April_2009.xls, \tfn: co-2009-vr-04.xls\n",
      "url: https://www.sos.state.co.us/pubs/elections/VoterRegNumbers/2009/May/for_web.xls, \tfn: co-2009-vr-05.xls\n",
      "url: https://www.sos.state.co.us/pubs/elections/VoterRegNumbers/2009/June/for_web.xls, \tfn: co-2009-vr-06.xls\n",
      "url: https://www.sos.state.co.us/pubs/elections/VoterRegNumbers/2009/July/08-01-2009_statistics_for_web.xls, \tfn: co-2009-vr-07.xls\n",
      "url: https://www.sos.state.co.us/pubs/elections/VoterRegNumbers/2009/August/09-01-2009_statistics_for_the_web.xls, \tfn: co-2009-vr-08.xls\n",
      "url: https://www.sos.state.co.us/pubs/elections/VoterRegNumbers/2009/September/10-01-2009_statistics_for_the_web.xls, \tfn: co-2009-vr-09.xls\n",
      "url: https://www.sos.state.co.us/pubs/elections/VoterRegNumbers/2009/October/11-01-2009_for_web.xls, \tfn: co-2009-vr-10.xls\n",
      "url: https://www.sos.state.co.us/pubs/elections/VoterRegNumbers/2009/November/12-01-2009_statistics_for_the_web.xls, \tfn: co-2009-vr-11.xls\n",
      "url: https://www.sos.state.co.us/pubs/elections/VoterRegNumbers/2009/December/01-01-2009_statistics_for_the_web.xls, \tfn: co-2009-vr-12.xls\n"
     ]
    }
   ],
   "source": [
    "urls2009 = ['https://www.sos.state.co.us/pubs/elections/VoterRegNumbers/2009/January/january_vr_files_for_web.xls', \n",
    "'https://www.sos.state.co.us/pubs/elections/VoterRegNumbers/2009/February/VR_File_for_web.xls', \n",
    "'https://www.sos.state.co.us/pubs/elections/VoterRegNumbers/2009/March/for_web.xls', \n",
    "'https://www.sos.state.co.us/pubs/elections/VoterRegNumbers/2009/April/Monthly_VR_totals_for_web_April_2009.xls', \n",
    "'https://www.sos.state.co.us/pubs/elections/VoterRegNumbers/2009/May/for_web.xls', \n",
    "'https://www.sos.state.co.us/pubs/elections/VoterRegNumbers/2009/June/for_web.xls', \n",
    "'https://www.sos.state.co.us/pubs/elections/VoterRegNumbers/2009/July/08-01-2009_statistics_for_web.xls', \n",
    "'https://www.sos.state.co.us/pubs/elections/VoterRegNumbers/2009/August/09-01-2009_statistics_for_the_web.xls', \n",
    "'https://www.sos.state.co.us/pubs/elections/VoterRegNumbers/2009/September/10-01-2009_statistics_for_the_web.xls', \n",
    "'https://www.sos.state.co.us/pubs/elections/VoterRegNumbers/2009/October/11-01-2009_for_web.xls', \n",
    "'https://www.sos.state.co.us/pubs/elections/VoterRegNumbers/2009/November/12-01-2009_statistics_for_the_web.xls', \n",
    "'https://www.sos.state.co.us/pubs/elections/VoterRegNumbers/2009/December/01-01-2009_statistics_for_the_web.xls', \n",
    "]\n",
    "year = 2009\n",
    "\n",
    "folder = '../data/raw/vr/'\n",
    "for url, m in zip(urls2009,months):\n",
    "    fn = 'co-' + str(year) + '-vr-' + str(months[m]).zfill(2) + '.xls'\n",
    "    \n",
    "    print(f'url: {url}, \\tfn: {fn}')\n",
    "    download_and_rename(url, folder, fn)\n"
   ]
  },
  {
   "cell_type": "code",
   "execution_count": null,
   "metadata": {},
   "outputs": [],
   "source": []
  },
  {
   "cell_type": "markdown",
   "metadata": {},
   "source": [
    "### Special Handling for 2010 files"
   ]
  },
  {
   "cell_type": "code",
   "execution_count": 8,
   "metadata": {},
   "outputs": [
    {
     "name": "stdout",
     "output_type": "stream",
     "text": [
      "url: https://www.sos.state.co.us/pubs/elections/VoterRegNumbers/2010/January/02-01-2010_statistics_for_the_web.xls, \tfn: co-2010-vr-01.xls\n",
      "url: https://www.sos.state.co.us/pubs/elections/VoterRegNumbers/2010/February/03-01-2010_statistics_for_the_web.xls, \tfn: co-2010-vr-02.xls\n",
      "url: https://www.sos.state.co.us/pubs/elections/VoterRegNumbers/2010/March/04-01-2010_statistics_for_the_web.xls, \tfn: co-2010-vr-03.xls\n",
      "url: https://www.sos.state.co.us/pubs/elections/VoterRegNumbers/2010/April/05-01-2010_statistics_for_the_web.xls, \tfn: co-2010-vr-04.xls\n",
      "url: https://www.sos.state.co.us/pubs/elections/VoterRegNumbers/2010/May/06-01-2010_statistics_for_the_web.xls, \tfn: co-2010-vr-05.xls\n",
      "url: https://www.sos.state.co.us/pubs/elections/VoterRegNumbers/2010/June/07-01-2010_statistics_for_the_web.xls, \tfn: co-2010-vr-06.xls\n",
      "url: https://www.sos.state.co.us/pubs/elections/VoterRegNumbers/2010/July/08-01-2010_statistics_for_the_web.xls, \tfn: co-2010-vr-07.xls\n",
      "url: https://www.sos.state.co.us/pubs/elections/VoterRegNumbers/2010/August/20100901_statistics_for_the_web.xls, \tfn: co-2010-vr-08.xls\n",
      "url: https://www.sos.state.co.us/pubs/elections/VoterRegNumbers/2010/September/10-01-2010_statistics_for_the_web.xls, \tfn: co-2010-vr-09.xls\n",
      "url: https://www.sos.state.co.us/pubs/elections/VoterRegNumbers/2010/October/11-01-2010_statistics_for_the_web.xls, \tfn: co-2010-vr-10.xls\n",
      "url: https://www.sos.state.co.us/pubs/elections/VoterRegNumbers/2010/November/20101201_statistics_for_the_web.xls, \tfn: co-2010-vr-11.xls\n",
      "url: https://www.sos.state.co.us/pubs/elections/VoterRegNumbers/2010/December/20110103_statistics_for_the_web.xls, \tfn: co-2010-vr-12.xls\n"
     ]
    }
   ],
   "source": [
    "urls2010 = ['https://www.sos.state.co.us/pubs/elections/VoterRegNumbers/2010/January/02-01-2010_statistics_for_the_web.xls',\n",
    "'https://www.sos.state.co.us/pubs/elections/VoterRegNumbers/2010/February/03-01-2010_statistics_for_the_web.xls',\n",
    "'https://www.sos.state.co.us/pubs/elections/VoterRegNumbers/2010/March/04-01-2010_statistics_for_the_web.xls',\n",
    "'https://www.sos.state.co.us/pubs/elections/VoterRegNumbers/2010/April/05-01-2010_statistics_for_the_web.xls',\n",
    "'https://www.sos.state.co.us/pubs/elections/VoterRegNumbers/2010/May/06-01-2010_statistics_for_the_web.xls',\n",
    "'https://www.sos.state.co.us/pubs/elections/VoterRegNumbers/2010/June/07-01-2010_statistics_for_the_web.xls',\n",
    "'https://www.sos.state.co.us/pubs/elections/VoterRegNumbers/2010/July/08-01-2010_statistics_for_the_web.xls',\n",
    "'https://www.sos.state.co.us/pubs/elections/VoterRegNumbers/2010/August/20100901_statistics_for_the_web.xls',\n",
    "'https://www.sos.state.co.us/pubs/elections/VoterRegNumbers/2010/September/10-01-2010_statistics_for_the_web.xls',\n",
    "'https://www.sos.state.co.us/pubs/elections/VoterRegNumbers/2010/October/11-01-2010_statistics_for_the_web.xls',\n",
    "'https://www.sos.state.co.us/pubs/elections/VoterRegNumbers/2010/November/20101201_statistics_for_the_web.xls',\n",
    "'https://www.sos.state.co.us/pubs/elections/VoterRegNumbers/2010/December/20110103_statistics_for_the_web.xls']\n",
    "\n",
    "year = 2010\n",
    "\n",
    "folder = '../data/raw/vr/'\n",
    "for url, m in zip(urls2010,months):\n",
    "    fn = 'co-' + str(year) + '-vr-' + str(months[m]).zfill(2) + '.xls'\n",
    "    \n",
    "    print(f'url: {url}, \\tfn: {fn}')\n",
    "    download_and_rename(url, folder, fn)\n"
   ]
  },
  {
   "cell_type": "markdown",
   "metadata": {},
   "source": [
    "### Special Handling for 2011 files"
   ]
  },
  {
   "cell_type": "code",
   "execution_count": 9,
   "metadata": {},
   "outputs": [
    {
     "name": "stdout",
     "output_type": "stream",
     "text": [
      "url: https://www.sos.state.co.us/pubs/elections/VoterRegNumbers/2011/January/02-01-2011_statistics_for_the_web_template.xls, \tfn: co-2011-vr-01.xls\n",
      "url: https://www.sos.state.co.us/pubs/elections/VoterRegNumbers/2011/February/03-01-2011_statistics_for_the_web.xls, \tfn: co-2011-vr-02.xls\n",
      "url: https://www.sos.state.co.us/pubs/elections/VoterRegNumbers/2011/March/4_01_2011_statistics_for_the_web.xls, \tfn: co-2011-vr-03.xls\n",
      "url: https://www.sos.state.co.us/pubs/elections/VoterRegNumbers/2011/April/05-01-2011_statistics_for_the_web_template.xls, \tfn: co-2011-vr-04.xls\n",
      "url: https://www.sos.state.co.us/pubs/elections/VoterRegNumbers/2011/May/06_01_2011_statistics_for_the_web.xls, \tfn: co-2011-vr-05.xls\n",
      "url: https://www.sos.state.co.us/pubs/elections/VoterRegNumbers/2011/June/07-01-2011_statistics_for_the_web_template.xls, \tfn: co-2011-vr-06.xls\n",
      "url: https://www.sos.state.co.us/pubs/elections/VoterRegNumbers/2011/July/08-01-2011_statistics_for_the_web_template.xls, \tfn: co-2011-vr-07.xls\n",
      "url: https://www.sos.state.co.us/pubs/elections/VoterRegNumbers/2011/August/09-01-2011_statistics_for_the_web.xls, \tfn: co-2011-vr-08.xls\n",
      "url: https://www.sos.state.co.us/pubs/elections/VoterRegNumbers/2011/September/10-01-2011_statistics_for_the_web.xls, \tfn: co-2011-vr-09.xls\n",
      "url: https://www.sos.state.co.us/pubs/elections/VoterRegNumbers/2011/October/11-01-2011_statistics_for_the_web.xls, \tfn: co-2011-vr-10.xls\n",
      "url: https://www.sos.state.co.us/pubs/elections/VoterRegNumbers/2011/November/12-01-2011_statistics.xls, \tfn: co-2011-vr-11.xls\n",
      "url: https://www.sos.state.co.us/pubs/elections/VoterRegNumbers/2011/December/01-01-2012_statistics_for_the_web.xls, \tfn: co-2011-vr-12.xls\n"
     ]
    }
   ],
   "source": [
    "urls2011 = ['https://www.sos.state.co.us/pubs/elections/VoterRegNumbers/2011/January/02-01-2011_statistics_for_the_web_template.xls',\n",
    "'https://www.sos.state.co.us/pubs/elections/VoterRegNumbers/2011/February/03-01-2011_statistics_for_the_web.xls',\n",
    "'https://www.sos.state.co.us/pubs/elections/VoterRegNumbers/2011/March/4_01_2011_statistics_for_the_web.xls',\n",
    "'https://www.sos.state.co.us/pubs/elections/VoterRegNumbers/2011/April/05-01-2011_statistics_for_the_web_template.xls',\n",
    "'https://www.sos.state.co.us/pubs/elections/VoterRegNumbers/2011/May/06_01_2011_statistics_for_the_web.xls',\n",
    "'https://www.sos.state.co.us/pubs/elections/VoterRegNumbers/2011/June/07-01-2011_statistics_for_the_web_template.xls',\n",
    "'https://www.sos.state.co.us/pubs/elections/VoterRegNumbers/2011/July/08-01-2011_statistics_for_the_web_template.xls',\n",
    "'https://www.sos.state.co.us/pubs/elections/VoterRegNumbers/2011/August/09-01-2011_statistics_for_the_web.xls',\n",
    "'https://www.sos.state.co.us/pubs/elections/VoterRegNumbers/2011/September/10-01-2011_statistics_for_the_web.xls',\n",
    "'https://www.sos.state.co.us/pubs/elections/VoterRegNumbers/2011/October/11-01-2011_statistics_for_the_web.xls',\n",
    "'https://www.sos.state.co.us/pubs/elections/VoterRegNumbers/2011/November/12-01-2011_statistics.xls',\n",
    "'https://www.sos.state.co.us/pubs/elections/VoterRegNumbers/2011/December/01-01-2012_statistics_for_the_web.xls']\n",
    "\n",
    "\n",
    "year = 2011\n",
    "\n",
    "folder = '../data/raw/vr/'\n",
    "for url, m in zip(urls2011,months):\n",
    "    fn = 'co-' + str(year) + '-vr-' + str(months[m]).zfill(2) + '.xls'\n",
    "    \n",
    "    print(f'url: {url}, \\tfn: {fn}')\n",
    "    download_and_rename(url, folder, fn)\n"
   ]
  },
  {
   "cell_type": "markdown",
   "metadata": {},
   "source": [
    "### Special Handling for 2012 files"
   ]
  },
  {
   "cell_type": "code",
   "execution_count": 10,
   "metadata": {},
   "outputs": [
    {
     "name": "stdout",
     "output_type": "stream",
     "text": [
      "url: https://www.sos.state.co.us/pubs/elections/VoterRegNumbers/2012/January/Statistics.xls, \tfn: co-2012-vr-01.xls\n",
      "url: https://www.sos.state.co.us/pubs/elections/VoterRegNumbers/2012/February/Statistics.xls, \tfn: co-2012-vr-02.xls\n",
      "url: https://www.sos.state.co.us/pubs/elections/VoterRegNumbers/2012/March/Statistics.xls, \tfn: co-2012-vr-03.xls\n",
      "url: https://www.sos.state.co.us/pubs/elections/VoterRegNumbers/2012/April/Statistics.xls, \tfn: co-2012-vr-04.xls\n",
      "url: https://www.sos.state.co.us/pubs/elections/VoterRegNumbers/2012/May/Statistics.xls, \tfn: co-2012-vr-05.xls\n",
      "url: https://www.sos.state.co.us/pubs/elections/VoterRegNumbers/2012/June/Statistics.xls, \tfn: co-2012-vr-06.xls\n",
      "url: https://www.sos.state.co.us/pubs/elections/VoterRegNumbers/2012/July/Statistics.xls, \tfn: co-2012-vr-07.xls\n",
      "url: https://www.sos.state.co.us/pubs/elections/VoterRegNumbers/2012/August/statistics.xls, \tfn: co-2012-vr-08.xls\n",
      "url: https://www.sos.state.co.us/pubs/elections/VoterRegNumbers/2012/September/statistics.xls, \tfn: co-2012-vr-09.xls\n",
      "url: https://www.sos.state.co.us/pubs/elections/VoterRegNumbers/2012/October/statistics.xls, \tfn: co-2012-vr-10.xls\n",
      "url: https://www.sos.state.co.us/pubs/elections/VoterRegNumbers/2012/November/statistics.xls, \tfn: co-2012-vr-11.xls\n",
      "url: https://www.sos.state.co.us/pubs/elections/VoterRegNumbers/2012/December/statistics.xls, \tfn: co-2012-vr-12.xls\n"
     ]
    }
   ],
   "source": [
    "urls2012 = ['https://www.sos.state.co.us/pubs/elections/VoterRegNumbers/2012/January/Statistics.xls',\n",
    "    'https://www.sos.state.co.us/pubs/elections/VoterRegNumbers/2012/February/Statistics.xls',\n",
    "    'https://www.sos.state.co.us/pubs/elections/VoterRegNumbers/2012/March/Statistics.xls',\n",
    "    'https://www.sos.state.co.us/pubs/elections/VoterRegNumbers/2012/April/Statistics.xls',\n",
    "    'https://www.sos.state.co.us/pubs/elections/VoterRegNumbers/2012/May/Statistics.xls',\n",
    "    'https://www.sos.state.co.us/pubs/elections/VoterRegNumbers/2012/June/Statistics.xls',\n",
    "    'https://www.sos.state.co.us/pubs/elections/VoterRegNumbers/2012/July/Statistics.xls',\n",
    "    'https://www.sos.state.co.us/pubs/elections/VoterRegNumbers/2012/August/statistics.xls',\n",
    "    'https://www.sos.state.co.us/pubs/elections/VoterRegNumbers/2012/September/statistics.xls',\n",
    "    'https://www.sos.state.co.us/pubs/elections/VoterRegNumbers/2012/October/statistics.xls',\n",
    "    'https://www.sos.state.co.us/pubs/elections/VoterRegNumbers/2012/November/statistics.xls',\n",
    "    'https://www.sos.state.co.us/pubs/elections/VoterRegNumbers/2012/December/statistics.xls']\n",
    "\n",
    "\n",
    "\n",
    "year = 2012\n",
    "\n",
    "folder = '../data/raw/vr/'\n",
    "for url, m in zip(urls2012,months):\n",
    "    fn = 'co-' + str(year) + '-vr-' + str(months[m]).zfill(2) + '.xls'\n",
    "    \n",
    "    print(f'url: {url}, \\tfn: {fn}')\n",
    "    download_and_rename(url, folder, fn)\n"
   ]
  },
  {
   "cell_type": "markdown",
   "metadata": {},
   "source": [
    "### Special Handling for 2013 files"
   ]
  },
  {
   "cell_type": "code",
   "execution_count": 11,
   "metadata": {},
   "outputs": [
    {
     "name": "stdout",
     "output_type": "stream",
     "text": [
      "url: https://www.sos.state.co.us/pubs/elections/VoterRegNumbers/2013/January/statistics.xls, \tfn: co-2013-vr-01.xls\n",
      "url: https://www.sos.state.co.us/pubs/elections/VoterRegNumbers/2013/February/Statistics.xls, \tfn: co-2013-vr-02.xls\n",
      "url: https://www.sos.state.co.us/pubs/elections/VoterRegNumbers/2013/March/statistics.xls, \tfn: co-2013-vr-03.xls\n",
      "url: https://www.sos.state.co.us/pubs/elections/VoterRegNumbers/2013/April/statistics.xls, \tfn: co-2013-vr-04.xls\n",
      "url: https://www.sos.state.co.us/pubs/elections/VoterRegNumbers/2013/May/statistics.xls, \tfn: co-2013-vr-05.xls\n",
      "url: https://www.sos.state.co.us/pubs/elections/VoterRegNumbers/2013/June/statistics.xls, \tfn: co-2013-vr-06.xls\n",
      "url: https://www.sos.state.co.us/pubs/elections/VoterRegNumbers/2013/July/statistics.xls, \tfn: co-2013-vr-07.xls\n",
      "url: https://www.sos.state.co.us/pubs/elections/VoterRegNumbers/2013/August/statistics.xls, \tfn: co-2013-vr-08.xls\n",
      "url: https://www.sos.state.co.us/pubs/elections/VoterRegNumbers/2013/September/statistics.xls, \tfn: co-2013-vr-09.xls\n",
      "url: https://www.sos.state.co.us/pubs/elections/VoterRegNumbers/2013/October/statistics.xls, \tfn: co-2013-vr-10.xls\n",
      "url: https://www.sos.state.co.us/pubs/elections/VoterRegNumbers/2013/November/statistics.xls, \tfn: co-2013-vr-11.xls\n",
      "url: https://www.sos.state.co.us/pubs/elections/VoterRegNumbers/2013/December/statistics.xls, \tfn: co-2013-vr-12.xls\n"
     ]
    }
   ],
   "source": [
    "urls2013 = ['https://www.sos.state.co.us/pubs/elections/VoterRegNumbers/2013/January/statistics.xls',\n",
    "    'https://www.sos.state.co.us/pubs/elections/VoterRegNumbers/2013/February/Statistics.xls',\n",
    "    'https://www.sos.state.co.us/pubs/elections/VoterRegNumbers/2013/March/statistics.xls',\n",
    "    'https://www.sos.state.co.us/pubs/elections/VoterRegNumbers/2013/April/statistics.xls',\n",
    "    'https://www.sos.state.co.us/pubs/elections/VoterRegNumbers/2013/May/statistics.xls',\n",
    "    'https://www.sos.state.co.us/pubs/elections/VoterRegNumbers/2013/June/statistics.xls',\n",
    "    'https://www.sos.state.co.us/pubs/elections/VoterRegNumbers/2013/July/statistics.xls',\n",
    "    'https://www.sos.state.co.us/pubs/elections/VoterRegNumbers/2013/August/statistics.xls',\n",
    "    'https://www.sos.state.co.us/pubs/elections/VoterRegNumbers/2013/September/statistics.xls',\n",
    "    'https://www.sos.state.co.us/pubs/elections/VoterRegNumbers/2013/October/statistics.xls',\n",
    "    'https://www.sos.state.co.us/pubs/elections/VoterRegNumbers/2013/November/statistics.xls',\n",
    "    'https://www.sos.state.co.us/pubs/elections/VoterRegNumbers/2013/December/statistics.xls']\n",
    "\n",
    "year = 2013\n",
    "\n",
    "folder = '../data/raw/vr/'\n",
    "for url, m in zip(urls2013,months):\n",
    "    fn = 'co-' + str(year) + '-vr-' + str(months[m]).zfill(2) + '.xls'\n",
    "    \n",
    "    print(f'url: {url}, \\tfn: {fn}')\n",
    "    download_and_rename(url, folder, fn)\n"
   ]
  },
  {
   "cell_type": "markdown",
   "metadata": {},
   "source": [
    "### Special Handling for 2014 files"
   ]
  },
  {
   "cell_type": "code",
   "execution_count": 12,
   "metadata": {},
   "outputs": [
    {
     "name": "stdout",
     "output_type": "stream",
     "text": [
      "url: https://www.sos.state.co.us/pubs/elections/VoterRegNumbers/2014/January/statistics.xls, \tfn: co-2014-vr-01.xls\n",
      "url: https://www.sos.state.co.us/pubs/elections/VoterRegNumbers/2014/February/statistics.xls, \tfn: co-2014-vr-02.xls\n",
      "url: https://www.sos.state.co.us/pubs/elections/VoterRegNumbers/2014/March/statistics.xls, \tfn: co-2014-vr-03.xls\n",
      "url: https://www.sos.state.co.us/pubs/elections/VoterRegNumbers/2014/April/statistics.xls, \tfn: co-2014-vr-04.xls\n",
      "url: https://www.sos.state.co.us/pubs/elections/VoterRegNumbers/2014/May/statistics.xls, \tfn: co-2014-vr-05.xls\n",
      "url: https://www.sos.state.co.us/pubs/elections/VoterRegNumbers/2014/June/statistics.xls, \tfn: co-2014-vr-06.xls\n",
      "url: https://www.sos.state.co.us/pubs/elections/VoterRegNumbers/2014/July/statistics.xls, \tfn: co-2014-vr-07.xls\n",
      "url: https://www.sos.state.co.us/pubs/elections/VoterRegNumbers/2014/August/statistics.xls, \tfn: co-2014-vr-08.xls\n",
      "url: https://www.sos.state.co.us/pubs/elections/VoterRegNumbers/2014/September/statistics.xls, \tfn: co-2014-vr-09.xls\n",
      "url: https://www.sos.state.co.us/pubs/elections/VoterRegNumbers/2014/October/statistics.xls, \tfn: co-2014-vr-10.xls\n",
      "url: https://www.sos.state.co.us/pubs/elections/VoterRegNumbers/2014/November/statistics.xls, \tfn: co-2014-vr-11.xls\n",
      "url: https://www.sos.state.co.us/pubs/elections/VoterRegNumbers/2014/December/statistics.xls, \tfn: co-2014-vr-12.xls\n"
     ]
    }
   ],
   "source": [
    "urls2014 = ['https://www.sos.state.co.us/pubs/elections/VoterRegNumbers/2014/January/statistics.xls',\n",
    "    'https://www.sos.state.co.us/pubs/elections/VoterRegNumbers/2014/February/statistics.xls',\n",
    "    'https://www.sos.state.co.us/pubs/elections/VoterRegNumbers/2014/March/statistics.xls',\n",
    "    'https://www.sos.state.co.us/pubs/elections/VoterRegNumbers/2014/April/statistics.xls',\n",
    "    'https://www.sos.state.co.us/pubs/elections/VoterRegNumbers/2014/May/statistics.xls',\n",
    "    'https://www.sos.state.co.us/pubs/elections/VoterRegNumbers/2014/June/statistics.xls',\n",
    "    'https://www.sos.state.co.us/pubs/elections/VoterRegNumbers/2014/July/statistics.xls',\n",
    "    'https://www.sos.state.co.us/pubs/elections/VoterRegNumbers/2014/August/statistics.xls',\n",
    "    'https://www.sos.state.co.us/pubs/elections/VoterRegNumbers/2014/September/statistics.xls',\n",
    "    'https://www.sos.state.co.us/pubs/elections/VoterRegNumbers/2014/October/statistics.xls',\n",
    "    'https://www.sos.state.co.us/pubs/elections/VoterRegNumbers/2014/November/statistics.xls',\n",
    "    'https://www.sos.state.co.us/pubs/elections/VoterRegNumbers/2014/December/statistics.xls']\n",
    "year = 2014\n",
    "\n",
    "folder = '../data/raw/vr/'\n",
    "for url, m in zip(urls2014,months):\n",
    "    fn = 'co-' + str(year) + '-vr-' + str(months[m]).zfill(2) + '.xls'\n",
    "    \n",
    "    print(f'url: {url}, \\tfn: {fn}')\n",
    "    download_and_rename(url, folder, fn)\n"
   ]
  },
  {
   "cell_type": "markdown",
   "metadata": {},
   "source": [
    "### Special Handling for 2015 files"
   ]
  },
  {
   "cell_type": "code",
   "execution_count": 22,
   "metadata": {},
   "outputs": [
    {
     "name": "stdout",
     "output_type": "stream",
     "text": [
      "url:  https://www.sos.state.co.us/pubs/elections/VoterRegNumbers/2015/January/statistics.xls, \tfn: co-2015-vr-01.xls\n",
      "url: https://www.sos.state.co.us/pubs/elections/VoterRegNumbers/2015/February/statistics.xlsx, \tfn: co-2015-vr-02.xlsx\n",
      "url: https://www.sos.state.co.us/pubs/elections/VoterRegNumbers/2015/March/statistics.xlsx, \tfn: co-2015-vr-03.xlsx\n",
      "url: https://www.sos.state.co.us/pubs/elections/VoterRegNumbers/2015/April/statistics.xlsx, \tfn: co-2015-vr-04.xlsx\n",
      "url: https://www.sos.state.co.us/pubs/elections/VoterRegNumbers/2015/May/statistics.xlsx, \tfn: co-2015-vr-05.xlsx\n",
      "url: https://www.sos.state.co.us/pubs/elections/VoterRegNumbers/2015/June/statistics.xlsx, \tfn: co-2015-vr-06.xlsx\n",
      "url: https://www.sos.state.co.us/pubs/elections/VoterRegNumbers/2015/July/statistics.xlsx, \tfn: co-2015-vr-07.xlsx\n",
      "url: https://www.sos.state.co.us/pubs/elections/VoterRegNumbers/2015/August/statistics.xlsx, \tfn: co-2015-vr-08.xlsx\n",
      "url: https://www.sos.state.co.us/pubs/elections/VoterRegNumbers/2015/September/statistics.xlsx, \tfn: co-2015-vr-09.xlsx\n",
      "url: https://www.sos.state.co.us/pubs/elections/VoterRegNumbers/2015/October/statistics.xlsx, \tfn: co-2015-vr-10.xlsx\n",
      "url: https://www.sos.state.co.us/pubs/elections/VoterRegNumbers/2015/November/statistics.xlsx, \tfn: co-2015-vr-11.xlsx\n",
      "url: https://www.sos.state.co.us/pubs/elections/VoterRegNumbers/2015/December/statistics.xlsx, \tfn: co-2015-vr-12.xlsx\n"
     ]
    }
   ],
   "source": [
    "urls2015 = [' https://www.sos.state.co.us/pubs/elections/VoterRegNumbers/2015/January/statistics.xls',\n",
    "    'https://www.sos.state.co.us/pubs/elections/VoterRegNumbers/2015/February/statistics.xlsx',\n",
    "    'https://www.sos.state.co.us/pubs/elections/VoterRegNumbers/2015/March/statistics.xlsx',\n",
    "    'https://www.sos.state.co.us/pubs/elections/VoterRegNumbers/2015/April/statistics.xlsx',\n",
    "    'https://www.sos.state.co.us/pubs/elections/VoterRegNumbers/2015/May/statistics.xlsx',\n",
    "    'https://www.sos.state.co.us/pubs/elections/VoterRegNumbers/2015/June/statistics.xlsx',\n",
    "    'https://www.sos.state.co.us/pubs/elections/VoterRegNumbers/2015/July/statistics.xlsx',\n",
    "    'https://www.sos.state.co.us/pubs/elections/VoterRegNumbers/2015/August/statistics.xlsx',\n",
    "    'https://www.sos.state.co.us/pubs/elections/VoterRegNumbers/2015/September/statistics.xlsx',\n",
    "    'https://www.sos.state.co.us/pubs/elections/VoterRegNumbers/2015/October/statistics.xlsx',\n",
    "    'https://www.sos.state.co.us/pubs/elections/VoterRegNumbers/2015/November/statistics.xlsx',\n",
    "    'https://www.sos.state.co.us/pubs/elections/VoterRegNumbers/2015/December/statistics.xlsx']\n",
    "year = 2015\n",
    "\n",
    "folder = '../data/raw/vr/'\n",
    "for url, m in zip(urls2015,months):\n",
    "    if m == 'January':\n",
    "        fn = 'co-' + str(year) + '-vr-' + str(months[m]).zfill(2) + '.xls'\n",
    "    else:\n",
    "        fn = 'co-' + str(year) + '-vr-' + str(months[m]).zfill(2) + '.xlsx'\n",
    "    \n",
    "    print(f'url: {url}, \\tfn: {fn}')\n",
    "    download_and_rename(url, folder, fn)\n"
   ]
  },
  {
   "cell_type": "code",
   "execution_count": null,
   "metadata": {},
   "outputs": [],
   "source": []
  },
  {
   "cell_type": "code",
   "execution_count": null,
   "metadata": {},
   "outputs": [],
   "source": []
  }
 ],
 "metadata": {
  "kernelspec": {
   "display_name": "Python 3",
   "language": "python",
   "name": "python3"
  },
  "language_info": {
   "codemirror_mode": {
    "name": "ipython",
    "version": 3
   },
   "file_extension": ".py",
   "mimetype": "text/x-python",
   "name": "python",
   "nbconvert_exporter": "python",
   "pygments_lexer": "ipython3",
   "version": "3.7.8"
  }
 },
 "nbformat": 4,
 "nbformat_minor": 4
}
